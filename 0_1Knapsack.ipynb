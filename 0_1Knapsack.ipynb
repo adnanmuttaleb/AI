{
  "nbformat": 4,
  "nbformat_minor": 0,
  "metadata": {
    "colab": {
      "name": "0-1Knapsack.ipynb",
      "version": "0.3.2",
      "provenance": [],
      "collapsed_sections": []
    },
    "kernelspec": {
      "name": "python3",
      "display_name": "Python 3"
    }
  },
  "cells": [
    {
      "cell_type": "markdown",
      "metadata": {
        "id": "H7hm1HiaBK8T",
        "colab_type": "text"
      },
      "source": [
        "# Solving 0-1 Knapsack Problem Using DEAP Framewok\n",
        "\n",
        "\n",
        "[DEAP](https://deap.readthedocs.io/en/master/index.html) is a novel evolutionary computation framework for rapid prototyping and testing of ideas.\n",
        "\n",
        "In 0-1 Knapsack Problem we have a bag of capacity `C` and we have a set of items, each item has a corresponding weight and profit and we want to select a subset of items in way that maximize the total profit while not exceeding the total capacity of the bag `C`.\n"
      ]
    },
    {
      "cell_type": "code",
      "metadata": {
        "id": "Gnm2P_JG_JxG",
        "colab_type": "code",
        "colab": {
          "base_uri": "https://localhost:8080/",
          "height": 53
        },
        "outputId": "47848c1c-4d0e-43c7-ce03-94181861bab9"
      },
      "source": [
        "!pip install deap\n",
        "%matplotlib inline"
      ],
      "execution_count": 49,
      "outputs": [
        {
          "output_type": "stream",
          "text": [
            "Requirement already satisfied: deap in /usr/local/lib/python3.6/dist-packages (1.3.0)\n",
            "Requirement already satisfied: numpy in /usr/local/lib/python3.6/dist-packages (from deap) (1.16.4)\n"
          ],
          "name": "stdout"
        }
      ]
    },
    {
      "cell_type": "markdown",
      "metadata": {
        "id": "7L3pBCTSBJka",
        "colab_type": "text"
      },
      "source": [
        "first we import the required libraries."
      ]
    },
    {
      "cell_type": "code",
      "metadata": {
        "id": "N4RNKc6O_B9b",
        "colab_type": "code",
        "colab": {}
      },
      "source": [
        "from deap import creator, base, tools, algorithms\n",
        "import matplotlib\n",
        "import matplotlib.pyplot as plt\n",
        "import pandas as pd\n",
        "import numpy as np\n"
      ],
      "execution_count": 0,
      "outputs": []
    },
    {
      "cell_type": "markdown",
      "metadata": {
        "id": "iW9Vs6eCCqg8",
        "colab_type": "text"
      },
      "source": [
        "we load the dataset we are using the 8th dataset (can be found [here](http://people.sc.fsu.edu/~jburkardt%20/datasets/knapsack_01/knapsack_01.html)) of 24 item and total bag capacity 6404180.*italicized text*"
      ]
    },
    {
      "cell_type": "code",
      "metadata": {
        "id": "CfV5AmJNIwVj",
        "colab_type": "code",
        "colab": {}
      },
      "source": [
        "C = 6404180\n",
        "S = 24\n",
        "MAX_PROFIT = 13549094\n",
        "OPTIMAL_SOLUTION = [1,1,0,1,1,1,0,0,0,1,1,0,1,0,0,1,0,0,0,0,0,1,1,1,]\n",
        "WEIGHTS = pd.read_csv('http://people.sc.fsu.edu/~jburkardt%20/datasets/knapsack_01/p08_w.txt', sep='\\n', header=None)[0]\n",
        "PROFITS = pd.read_csv('http://people.sc.fsu.edu/~jburkardt%20/datasets/knapsack_01/p08_p.txt', sep='\\n', header=None)[0]\n"
      ],
      "execution_count": 0,
      "outputs": []
    },
    {
      "cell_type": "markdown",
      "metadata": {
        "id": "hAnKkMOXDIK9",
        "colab_type": "text"
      },
      "source": [
        "2. create two types using the `create` method of DEAP, this method takes three paramaters: the first one is the name of the new type, the second one is the base class of the new type and the remaining ones are any additional properties that are specific to the new type. The `FitnessMax`  type inherent from the class `base.Fitness` and has one requiered property `weight`, which is a tuple that determine whether we are maximizing (+1.0) or minimizing (-1.0) some objectives."
      ]
    },
    {
      "cell_type": "code",
      "metadata": {
        "id": "8nDY-7CfC0rA",
        "colab_type": "code",
        "colab": {
          "base_uri": "https://localhost:8080/",
          "height": 108
        },
        "outputId": "7ea38476-8637-4304-8cf1-162a024dc842"
      },
      "source": [
        "creator.create('FitnessMax', base.Fitness, weights=(1.0,))\n",
        "creator.create('Individual', list, fitness=creator.FitnessMax)"
      ],
      "execution_count": 52,
      "outputs": [
        {
          "output_type": "stream",
          "text": [
            "/usr/local/lib/python3.6/dist-packages/deap/creator.py:141: RuntimeWarning: A class named 'FitnessMax' has already been created and it will be overwritten. Consider deleting previous creation of that class or rename it.\n",
            "  RuntimeWarning)\n",
            "/usr/local/lib/python3.6/dist-packages/deap/creator.py:141: RuntimeWarning: A class named 'Individual' has already been created and it will be overwritten. Consider deleting previous creation of that class or rename it.\n",
            "  RuntimeWarning)\n"
          ],
          "name": "stderr"
        }
      ]
    },
    {
      "cell_type": "markdown",
      "metadata": {
        "id": "yBgs4X06Rkfd",
        "colab_type": "text"
      },
      "source": [
        "The `Toolbox` is a tool that allow you to create an aliases for some function while providing values for some of its parameters. "
      ]
    },
    {
      "cell_type": "code",
      "metadata": {
        "id": "32D64uIdEHqt",
        "colab_type": "code",
        "colab": {}
      },
      "source": [
        "toolbox = base.Toolbox()"
      ],
      "execution_count": 0,
      "outputs": []
    },
    {
      "cell_type": "markdown",
      "metadata": {
        "id": "NKq08S28SAmD",
        "colab_type": "text"
      },
      "source": [
        "We represent each individual here as string of 0 or 1. all strings (individuals) have a length equal to the number of candidate items. Each ith gene (index in the string) is either equal to 1 which mean we are selecting that ith item and 0 mean we are not."
      ]
    },
    {
      "cell_type": "code",
      "metadata": {
        "id": "-qb6g1uOEJgb",
        "colab_type": "code",
        "colab": {}
      },
      "source": [
        "toolbox.register('pick', np.random.choice, (True,False))\n",
        "toolbox.register('individual', tools.initRepeat, creator.Individual, toolbox.pick, S)\n",
        "toolbox.register('population', tools.initRepeat, list, toolbox.individual)\n",
        "\n"
      ],
      "execution_count": 0,
      "outputs": []
    },
    {
      "cell_type": "markdown",
      "metadata": {
        "id": "2vtG2iJFTSpB",
        "colab_type": "text"
      },
      "source": [
        "Below we define our objective function which we are trying to maximize. The objective function which return the total profit of some individual. As our operators are random we may create an invalid indivduals, in this case this function should return constant value of 0 which specify the minimum profit."
      ]
    },
    {
      "cell_type": "code",
      "metadata": {
        "id": "6Lm__UQfNZnt",
        "colab_type": "code",
        "colab": {}
      },
      "source": [
        "def evaluate(indv):\n",
        "  total_profit = 0\n",
        "  total_weight = 0 \n",
        "  for i,g in enumerate(indv):\n",
        "    if g:\n",
        "      total_weight += WEIGHTS[i]\n",
        "      total_profit +=  PROFITS[i]\n",
        "      \n",
        "  if total_weight <= C:\n",
        "    return total_profit,\n",
        "  else:\n",
        "    return 0,"
      ],
      "execution_count": 0,
      "outputs": []
    },
    {
      "cell_type": "markdown",
      "metadata": {
        "id": "1_t8W8-DTl0X",
        "colab_type": "text"
      },
      "source": [
        "Here we register our evaluation function and the other genetic operators: Crossover (`mate`), Mutation (`mutate`), Natural-Selection (`select`). There are multiple options for each type of operators that can be found in the docs."
      ]
    },
    {
      "cell_type": "code",
      "metadata": {
        "id": "sAXRpZEgAMr8",
        "colab_type": "code",
        "colab": {}
      },
      "source": [
        "toolbox.register('evaluate', evaluate)\n",
        "toolbox.register('mate', tools.cxOnePoint)\n",
        "toolbox.register('mutate', tools.mutFlipBit, indpb=0.3)\n",
        "toolbox.register('select', tools.selNSGA2)"
      ],
      "execution_count": 0,
      "outputs": []
    },
    {
      "cell_type": "markdown",
      "metadata": {
        "id": "B7uGq-NQT5dX",
        "colab_type": "text"
      },
      "source": [
        "We use the `eaMuPlusLambda` to evolve the solution set `pop`. you can read more about this algrorithm on DEAP docs."
      ]
    },
    {
      "cell_type": "code",
      "metadata": {
        "id": "S8d3DIBiEUh6",
        "colab_type": "code",
        "colab": {
          "base_uri": "https://localhost:8080/",
          "height": 1839
        },
        "outputId": "be0ebba3-33d4-4f0f-90fd-641c69948eef"
      },
      "source": [
        "pop = toolbox.population(n=100)\n",
        "stats = tools.Statistics(lambda indv: indv.fitness.values)\n",
        "stats.register('avg', np.mean, axis=0)\n",
        "stats.register('std', np.std, axis=0)\n",
        "stats.register('max', np.max, axis=0)\n",
        "stats.register('min', np.min, axis=0)\n",
        "\n",
        "history = algorithms.eaMuPlusLambda(pop, toolbox, mu=len(pop), lambda_=len(pop)*2, cxpb=0.5, mutpb=0.4, ngen=100, stats=stats)"
      ],
      "execution_count": 57,
      "outputs": [
        {
          "output_type": "stream",
          "text": [
            "gen\tnevals\tavg         \tstd              \tmax        \tmin \n",
            "0  \t100   \t[4713854.82]\t[5368236.9094668]\t[12983330.]\t[0.]\n",
            "1  \t176   \t[11296445.59]\t[955214.44988735]\t[12983330.]\t[9399271.]\n",
            "2  \t176   \t[12251767.49]\t[440454.56499009]\t[13098858.]\t[11434375.]\n",
            "3  \t177   \t[12588714.16]\t[219038.5875373] \t[13114968.]\t[12196226.]\n",
            "4  \t182   \t[12741830.6] \t[147812.63467234]\t[13219515.]\t[12510716.]\n",
            "5  \t181   \t[12809778.88]\t[137006.66525387]\t[13296383.]\t[12629027.]\n",
            "6  \t172   \t[12870166.92]\t[134155.68327467]\t[13296383.]\t[12729597.]\n",
            "7  \t173   \t[12934471.56]\t[116217.65507575]\t[13296383.]\t[12765236.]\n",
            "8  \t183   \t[12999440.75]\t[102018.48689501]\t[13296383.]\t[12877102.]\n",
            "9  \t181   \t[13033760.41]\t[95010.05157299] \t[13296383.]\t[12950919.]\n",
            "10 \t177   \t[13066496.39]\t[94774.85123722] \t[13296383.]\t[12956683.]\n",
            "11 \t180   \t[13120452.65]\t[67943.16166273] \t[13296383.]\t[12985488.]\n",
            "12 \t180   \t[13150904.18]\t[51080.63541899] \t[13296383.]\t[13098858.]\n",
            "13 \t176   \t[13178328.7] \t[43962.9710478]  \t[13296383.]\t[13135343.]\n",
            "14 \t181   \t[13203606.81]\t[32752.62368596] \t[13296383.]\t[13145235.]\n",
            "15 \t179   \t[13220873.91]\t[26051.60411571] \t[13296383.]\t[13196284.]\n",
            "16 \t186   \t[13223704.03]\t[26844.12608838] \t[13296383.]\t[13209844.]\n",
            "17 \t179   \t[13231115.02]\t[31303.53443654] \t[13296383.]\t[13209844.]\n",
            "18 \t174   \t[13241632.17]\t[32540.55580228] \t[13296383.]\t[13209844.]\n",
            "19 \t179   \t[13257071.4] \t[34588.58402421] \t[13401031.]\t[13219515.]\n",
            "20 \t175   \t[13278671.56]\t[27321.50666428] \t[13401031.]\t[13241539.]\n",
            "21 \t182   \t[13297429.48]\t[10412.34453183] \t[13401031.]\t[13296383.]\n",
            "22 \t175   \t[13297429.48]\t[10412.34453183] \t[13401031.]\t[13296383.]\n",
            "23 \t179   \t[13297429.48]\t[10412.34453183] \t[13401031.]\t[13296383.]\n",
            "24 \t179   \t[13298475.96]\t[14650.72]       \t[13401031.]\t[13296383.]\n",
            "25 \t181   \t[13298475.96]\t[14650.72]       \t[13401031.]\t[13296383.]\n",
            "26 \t184   \t[13298475.96]\t[14650.72]       \t[13401031.]\t[13296383.]\n",
            "27 \t189   \t[13298475.96]\t[14650.72]       \t[13401031.]\t[13296383.]\n",
            "28 \t181   \t[13299329.94]\t[16830.56168868] \t[13401031.]\t[13296383.]\n",
            "29 \t178   \t[13300565.57]\t[19025.04209207] \t[13401031.]\t[13296383.]\n",
            "30 \t184   \t[13300565.57]\t[19025.04209207] \t[13401031.]\t[13296383.]\n",
            "31 \t182   \t[13300565.57]\t[19025.04209207] \t[13401031.]\t[13296383.]\n",
            "32 \t175   \t[13302466.03]\t[22910.32709302] \t[13401031.]\t[13296383.]\n",
            "33 \t176   \t[13309529.35]\t[32397.39693351] \t[13401031.]\t[13296383.]\n",
            "34 \t185   \t[13311811.46]\t[34371.30145555] \t[13401031.]\t[13296383.]\n",
            "35 \t182   \t[13317620.24]\t[39223.68371969] \t[13401031.]\t[13296383.]\n",
            "36 \t179   \t[13332922.39]\t[45255.91086408] \t[13401031.]\t[13296383.]\n",
            "37 \t173   \t[13356835.33]\t[45609.07568611] \t[13466762.]\t[13296383.]\n",
            "38 \t178   \t[13390172.79]\t[17533.5321697]  \t[13466762.]\t[13334548.]\n",
            "39 \t172   \t[13402307.45]\t[14797.35933359] \t[13466762.]\t[13381781.]\n",
            "40 \t182   \t[13409955.74]\t[22280.94143595] \t[13466762.]\t[13401031.]\n",
            "41 \t184   \t[13422444.63]\t[30634.21313096] \t[13466762.]\t[13401031.]\n",
            "42 \t177   \t[13443858.26]\t[30981.00916291] \t[13466762.]\t[13401031.]\n",
            "43 \t182   \t[13466762.]  \t[0.]             \t[13466762.]\t[13466762.]\n",
            "44 \t185   \t[13466762.]  \t[0.]             \t[13466762.]\t[13466762.]\n",
            "45 \t181   \t[13466762.]  \t[0.]             \t[13466762.]\t[13466762.]\n",
            "46 \t183   \t[13466762.]  \t[0.]             \t[13466762.]\t[13466762.]\n",
            "47 \t183   \t[13466762.]  \t[0.]             \t[13466762.]\t[13466762.]\n",
            "48 \t179   \t[13466762.]  \t[0.]             \t[13466762.]\t[13466762.]\n",
            "49 \t180   \t[13466762.]  \t[0.]             \t[13466762.]\t[13466762.]\n",
            "50 \t182   \t[13466762.]  \t[0.]             \t[13466762.]\t[13466762.]\n",
            "51 \t180   \t[13466762.]  \t[0.]             \t[13466762.]\t[13466762.]\n",
            "52 \t185   \t[13466762.]  \t[0.]             \t[13466762.]\t[13466762.]\n",
            "53 \t181   \t[13466762.]  \t[0.]             \t[13466762.]\t[13466762.]\n",
            "54 \t177   \t[13466762.]  \t[0.]             \t[13466762.]\t[13466762.]\n",
            "55 \t173   \t[13466762.]  \t[0.]             \t[13466762.]\t[13466762.]\n",
            "56 \t180   \t[13466762.]  \t[0.]             \t[13466762.]\t[13466762.]\n",
            "57 \t187   \t[13466762.]  \t[0.]             \t[13466762.]\t[13466762.]\n",
            "58 \t181   \t[13466762.]  \t[0.]             \t[13466762.]\t[13466762.]\n",
            "59 \t185   \t[13466762.]  \t[0.]             \t[13466762.]\t[13466762.]\n",
            "60 \t178   \t[13466762.]  \t[0.]             \t[13466762.]\t[13466762.]\n",
            "61 \t178   \t[13466762.]  \t[0.]             \t[13466762.]\t[13466762.]\n",
            "62 \t184   \t[13466762.]  \t[0.]             \t[13466762.]\t[13466762.]\n",
            "63 \t180   \t[13466762.]  \t[0.]             \t[13466762.]\t[13466762.]\n",
            "64 \t172   \t[13466762.]  \t[0.]             \t[13466762.]\t[13466762.]\n",
            "65 \t184   \t[13466762.]  \t[0.]             \t[13466762.]\t[13466762.]\n",
            "66 \t172   \t[13466762.]  \t[0.]             \t[13466762.]\t[13466762.]\n",
            "67 \t177   \t[13466762.]  \t[0.]             \t[13466762.]\t[13466762.]\n",
            "68 \t181   \t[13466762.]  \t[0.]             \t[13466762.]\t[13466762.]\n",
            "69 \t173   \t[13466762.]  \t[0.]             \t[13466762.]\t[13466762.]\n",
            "70 \t180   \t[13466762.]  \t[0.]             \t[13466762.]\t[13466762.]\n",
            "71 \t188   \t[13466762.]  \t[0.]             \t[13466762.]\t[13466762.]\n",
            "72 \t172   \t[13466762.]  \t[0.]             \t[13466762.]\t[13466762.]\n",
            "73 \t177   \t[13466762.]  \t[0.]             \t[13466762.]\t[13466762.]\n",
            "74 \t170   \t[13466762.]  \t[0.]             \t[13466762.]\t[13466762.]\n",
            "75 \t185   \t[13466762.]  \t[0.]             \t[13466762.]\t[13466762.]\n",
            "76 \t180   \t[13466762.]  \t[0.]             \t[13466762.]\t[13466762.]\n",
            "77 \t178   \t[13466762.]  \t[0.]             \t[13466762.]\t[13466762.]\n",
            "78 \t183   \t[13466762.]  \t[0.]             \t[13466762.]\t[13466762.]\n",
            "79 \t183   \t[13466762.]  \t[0.]             \t[13466762.]\t[13466762.]\n",
            "80 \t186   \t[13466762.]  \t[0.]             \t[13466762.]\t[13466762.]\n",
            "81 \t184   \t[13466762.]  \t[0.]             \t[13466762.]\t[13466762.]\n",
            "82 \t178   \t[13466762.]  \t[0.]             \t[13466762.]\t[13466762.]\n",
            "83 \t188   \t[13466762.]  \t[0.]             \t[13466762.]\t[13466762.]\n",
            "84 \t182   \t[13466762.]  \t[0.]             \t[13466762.]\t[13466762.]\n",
            "85 \t182   \t[13466762.]  \t[0.]             \t[13466762.]\t[13466762.]\n",
            "86 \t180   \t[13466762.]  \t[0.]             \t[13466762.]\t[13466762.]\n",
            "87 \t180   \t[13466762.]  \t[0.]             \t[13466762.]\t[13466762.]\n",
            "88 \t180   \t[13466762.]  \t[0.]             \t[13466762.]\t[13466762.]\n",
            "89 \t179   \t[13466762.]  \t[0.]             \t[13466762.]\t[13466762.]\n",
            "90 \t180   \t[13466762.]  \t[0.]             \t[13466762.]\t[13466762.]\n",
            "91 \t187   \t[13466762.]  \t[0.]             \t[13466762.]\t[13466762.]\n",
            "92 \t178   \t[13466762.]  \t[0.]             \t[13466762.]\t[13466762.]\n",
            "93 \t183   \t[13466762.]  \t[0.]             \t[13466762.]\t[13466762.]\n",
            "94 \t179   \t[13466762.]  \t[0.]             \t[13466762.]\t[13466762.]\n",
            "95 \t182   \t[13466762.]  \t[0.]             \t[13466762.]\t[13466762.]\n",
            "96 \t178   \t[13466762.]  \t[0.]             \t[13466762.]\t[13466762.]\n",
            "97 \t186   \t[13466762.]  \t[0.]             \t[13466762.]\t[13466762.]\n",
            "98 \t183   \t[13466762.]  \t[0.]             \t[13466762.]\t[13466762.]\n",
            "99 \t184   \t[13466762.]  \t[0.]             \t[13466762.]\t[13466762.]\n",
            "100\t178   \t[13466762.]  \t[0.]             \t[13466762.]\t[13466762.]\n"
          ],
          "name": "stdout"
        }
      ]
    },
    {
      "cell_type": "code",
      "metadata": {
        "id": "rCGDuHZg5k-A",
        "colab_type": "code",
        "colab": {}
      },
      "source": [
        "evolution = pd.DataFrame(history[1])"
      ],
      "execution_count": 0,
      "outputs": []
    },
    {
      "cell_type": "code",
      "metadata": {
        "id": "Fedk6PzH8prk",
        "colab_type": "code",
        "colab": {}
      },
      "source": [
        "optimal_pop = pd.DataFrame(history[0], index=None)"
      ],
      "execution_count": 0,
      "outputs": []
    },
    {
      "cell_type": "markdown",
      "metadata": {
        "id": "Z-B-1mtMEHov",
        "colab_type": "text"
      },
      "source": [
        "Below we plot the the mean value of fitness during each generation."
      ]
    },
    {
      "cell_type": "code",
      "metadata": {
        "id": "g0QCrrpWmVvp",
        "colab_type": "code",
        "colab": {
          "base_uri": "https://localhost:8080/",
          "height": 295
        },
        "outputId": "7b5ef18d-50ac-49f2-d57a-0a093979c940"
      },
      "source": [
        "fig = plt.figure()\n",
        "ax  = fig.add_subplot(111)\n",
        "ax.plot(evolution['gen'], evolution['avg'])\n",
        "ax.set_title('Evolution against Time')\n",
        "ax.set_ylabel('Avg. Fitness')\n",
        "ax.set_xlabel('Generation')\n",
        "plt.show()"
      ],
      "execution_count": 60,
      "outputs": [
        {
          "output_type": "display_data",
          "data": {
            "image/png": "[encoded data removed]",
            "text/plain": [
              "<Figure size 432x288 with 1 Axes>"
            ]
          },
          "metadata": {
            "tags": []
          }
        }
      ]
    },
    {
      "cell_type": "code",
      "metadata": {
        "id": "AY4D_e1HQA2B",
        "colab_type": "code",
        "colab": {}
      },
      "source": [
        "plt.close('all')"
      ],
      "execution_count": 0,
      "outputs": []
    },
    {
      "cell_type": "markdown",
      "metadata": {
        "id": "UI417muCUPol",
        "colab_type": "text"
      },
      "source": [
        "In the below figure we plot how often each item is selected as part of the solution set, we can se that almost all solutions in the final population are equal we name that Full Convergence."
      ]
    },
    {
      "cell_type": "code",
      "metadata": {
        "id": "bRsjZ2re-D2f",
        "colab_type": "code",
        "colab": {
          "base_uri": "https://localhost:8080/",
          "height": 295
        },
        "outputId": "d20fbc93-d62c-4a21-fb4c-0fec1a3a369f"
      },
      "source": [
        "solutions_features = optimal_pop.sum(axis=0)\n",
        "fig = plt.figure()\n",
        "ax  = fig.add_subplot(111)\n",
        "ax.bar(solutions_features.index, solutions_features)\n",
        "ax.set_title('Optimal Solution Space')\n",
        "ax.set_ylabel('Occurances')\n",
        "ax.set_xlabel('Item')\n",
        "ax.set_xticks(solutions_features.index)\n",
        "plt.show()"
      ],
      "execution_count": 62,
      "outputs": [
        {
          "output_type": "display_data",
          "data": {
            "image/png": "[encoded data removed]",
            "text/plain": [
              "<Figure size 432x288 with 1 Axes>"
            ]
          },
          "metadata": {
            "tags": []
          }
        }
      ]
    },
    {
      "cell_type": "markdown",
      "metadata": {
        "id": "jA3VKtc7UrOL",
        "colab_type": "text"
      },
      "source": [
        "Know we repeat our experiment  but with two objectives instead of one this time: **Maximizing** profit, while **Minimizing** weight. "
      ]
    },
    {
      "cell_type": "code",
      "metadata": {
        "id": "KKlXu0AgRbQI",
        "colab_type": "code",
        "colab": {
          "base_uri": "https://localhost:8080/",
          "height": 108
        },
        "outputId": "0e37dafd-101c-4e40-ab6b-2e0e0e91713b"
      },
      "source": [
        "creator.create('FitnessMax', base.Fitness, weights=(1.0, -1.0))\n",
        "creator.create('Individual', list, fitness=creator.FitnessMax)\n",
        "\n",
        "toolbox.register('individual', tools.initRepeat, creator.Individual, toolbox.pick, S)\n",
        "toolbox.register('population', tools.initRepeat, list, toolbox.individual)\n"
      ],
      "execution_count": 63,
      "outputs": [
        {
          "output_type": "stream",
          "text": [
            "/usr/local/lib/python3.6/dist-packages/deap/creator.py:141: RuntimeWarning: A class named 'FitnessMax' has already been created and it will be overwritten. Consider deleting previous creation of that class or rename it.\n",
            "  RuntimeWarning)\n",
            "/usr/local/lib/python3.6/dist-packages/deap/creator.py:141: RuntimeWarning: A class named 'Individual' has already been created and it will be overwritten. Consider deleting previous creation of that class or rename it.\n",
            "  RuntimeWarning)\n"
          ],
          "name": "stderr"
        }
      ]
    },
    {
      "cell_type": "code",
      "metadata": {
        "id": "3UuloZTWUJjK",
        "colab_type": "code",
        "colab": {}
      },
      "source": [
        "def evaluate_multi_objective(indv):\n",
        "  total_profit = 0\n",
        "  total_weight = 0 \n",
        "  for i,g in enumerate(indv):\n",
        "    if g:\n",
        "      total_weight += WEIGHTS[i]\n",
        "      total_profit +=  PROFITS[i]\n",
        "      \n",
        "  if total_weight <= C:\n",
        "    return (total_profit, total_weight)\n",
        "  else:\n",
        "    return (0, C)"
      ],
      "execution_count": 0,
      "outputs": []
    },
    {
      "cell_type": "code",
      "metadata": {
        "id": "kVUriBZ1V3FK",
        "colab_type": "code",
        "colab": {}
      },
      "source": [
        "toolbox.register('evaluate', evaluate_multi_objective)"
      ],
      "execution_count": 0,
      "outputs": []
    },
    {
      "cell_type": "code",
      "metadata": {
        "id": "CUOuUNVuUM_a",
        "colab_type": "code",
        "colab": {
          "base_uri": "https://localhost:8080/",
          "height": 7199
        },
        "outputId": "23a73cbe-d393-4896-e74b-3ca6b6c3caa4"
      },
      "source": [
        "pop = toolbox.population(n=100)\n",
        "stats = tools.Statistics(lambda indv: indv.fitness.values)\n",
        "stats.register('avg', np.mean, axis=0)\n",
        "stats.register('std', np.std, axis=0)\n",
        "stats.register('max', np.max, axis=0)\n",
        "stats.register('min', np.min, axis=0)\n",
        "\n",
        "history = algorithms.eaMuPlusLambda(pop, toolbox, mu=len(pop), lambda_=len(pop)*2, cxpb=0.5, mutpb=0.4, ngen=400, stats=stats)"
      ],
      "execution_count": 66,
      "outputs": [
        {
          "output_type": "stream",
          "text": [
            "gen\tnevals\tavg                    \tstd                                \tmax                  \tmin                \n",
            "0  \t100   \t[5108312.26 5846285.89]\t[5463601.47634089  857355.47955952]\t[12822644.  6404180.]\t[      0. 2323376.]\n",
            "1  \t182   \t[10300621.29  5042981.95]\t[1870636.58742524  921945.17246374]\t[13408375.  6393922.]\t[4809193. 2323376.]\n",
            "2  \t179   \t[9997811.45 4857350.49]  \t[2251687.19445766 1104000.39078859]\t[13408375.  6395450.]\t[4809193. 2314897.]\n",
            "3  \t180   \t[9701701.91 4682897.77]  \t[2408183.12449081 1177782.21988098]\t[13408375.  6393922.]\t[5022191. 2314897.]\n",
            "4  \t183   \t[8586945.06 4102436.95]  \t[2483695.14970667 1177064.87159741]\t[13408375.  6393922.]\t[3742577. 1778699.]\n",
            "5  \t178   \t[8516421.48 4043662.28]  \t[2662914.98263117 1263295.13627564]\t[13408375.  6393922.]\t[3612001. 1744171.]\n",
            "6  \t174   \t[8676907.56 4099928.2 ]  \t[2712195.33505794 1293715.82580439]\t[13408375.  6393922.]\t[3519274. 1717990.]\n",
            "7  \t171   \t[9034090.81 4260685.13]  \t[2683217.81307135 1288928.29570807]\t[13408375.  6393922.]\t[3661285. 1710679.]\n",
            "8  \t182   \t[8791530.84 4137304.23]  \t[2871489.71052737 1380253.91803572]\t[13408375.  6393922.]\t[3661285. 1710679.]\n",
            "9  \t185   \t[8975034.21 4225095.25]  \t[2850851.20622044 1369645.6264853 ]\t[13408375.  6393922.]\t[3661285. 1710679.]\n",
            "10 \t185   \t[8491876.47 3987948.87]  \t[2870263.80505484 1375805.10756405]\t[13445720.  6403156.]\t[3661285. 1710679.]\n",
            "11 \t178   \t[8690348.01 4083381.67]  \t[2943756.9784722  1407839.80793921]\t[13445720.  6403156.]\t[3442982. 1643625.]\n",
            "12 \t185   \t[8212114.37 3858508.09]  \t[2971286.13431149 1417919.82369062]\t[13445720.  6403156.]\t[2478341. 1157519.]\n",
            "13 \t175   \t[8338093.58 3915100.26]  \t[2954508.85482539 1410381.62399402]\t[13445720.  6403156.]\t[2478341. 1157519.]\n",
            "14 \t180   \t[8787914.82 4128772.35]  \t[3169322.87407896 1512825.52136266]\t[13445720.  6403156.]\t[65731. 31385.]    \n",
            "15 \t177   \t[8004765.12 3754323.98]  \t[3182891.68015452 1514987.26089791]\t[13445720.  6403156.]\t[65731. 31385.]    \n",
            "16 \t180   \t[7746090.71 3631257.09]  \t[3355116.31847303 1594285.86626512]\t[13445720.  6403156.]\t[65731. 31385.]    \n",
            "17 \t179   \t[7892945.54 3701019.45]  \t[3375380.50065217 1602152.748141  ]\t[13445720.  6403156.]\t[65731. 31385.]    \n",
            "18 \t180   \t[7387333.25 3465779.51]  \t[3677084.83978412 1744472.67167558]\t[13457089.  6387703.]\t[65731. 31385.]    \n",
            "19 \t179   \t[6854264.71 3215304.43]  \t[3836863.07558504 1818526.13903507]\t[13457089.  6387703.]\t[65731. 31385.]    \n",
            "20 \t171   \t[6762543.27 3172066.82]  \t[4050460.91636791 1918207.78024805]\t[13457089.  6387703.]\t[65731. 31385.]    \n",
            "21 \t185   \t[6768059.05 3173032.5 ]  \t[3967404.49710788 1877361.32502104]\t[13457089.  6387703.]\t[65731. 31385.]    \n",
            "22 \t176   \t[6458984.34 3030471.65]  \t[4272416.16118414 2018569.62945794]\t[13457089.  6387703.]\t[65731. 31385.]    \n",
            "23 \t183   \t[6737832.75 3160585.34]  \t[4310399.052113   2038207.25437927]\t[13457089.  6387703.]\t[65731. 31385.]    \n",
            "24 \t172   \t[6983147.02 3274510.82]  \t[3770257.94692634 1786150.02534386]\t[13457089.  6387703.]\t[163157.  75713.]  \n",
            "25 \t186   \t[7133658.   3346147.73]  \t[3984657.02008363 1886258.29442212]\t[13457089.  6387703.]\t[163157.  75713.]  \n",
            "26 \t181   \t[6855125.42 3216831.52]  \t[4197518.45598616 1988444.00988756]\t[13457089.  6387703.]\t[65731. 31385.]    \n",
            "27 \t179   \t[7031571.49 3299533.57]  \t[3983260.82040202 1888764.71068926]\t[13457089.  6387703.]\t[65731. 31385.]    \n",
            "28 \t183   \t[6955070.62 3258022.44]  \t[3974714.40188325 1881006.31942848]\t[13457089.  6387703.]\t[65731. 31385.]    \n",
            "29 \t184   \t[7044980.4  3298798.43]  \t[3834175.93674173 1811809.53824788]\t[13457089.  6387703.]\t[65731. 31385.]    \n",
            "30 \t176   \t[7063472.2  3312513.85]  \t[4057040.44787368 1918790.34313635]\t[13457089.  6387703.]\t[65731. 31385.]    \n",
            "31 \t177   \t[6915507.13 3241307.47]  \t[3921527.15571485 1854605.46616255]\t[13457089.  6387703.]\t[163157.  75713.]  \n",
            "32 \t175   \t[6727365.8  3152651.57]  \t[3811751.96025287 1802233.7729229 ]\t[13457089.  6387703.]\t[163157.  75713.]  \n",
            "33 \t180   \t[6896338.54 3232333.04]  \t[4039630.29486483 1905847.378009  ]\t[13517399.  6389617.]\t[65731. 31385.]    \n",
            "34 \t186   \t[6821545.89 3198673.44]  \t[4026817.64574381 1902067.64312518]\t[13517399.  6389617.]\t[163157.  75713.]  \n",
            "35 \t180   \t[6539753.88 3066134.43]  \t[3988061.67225065 1883872.3336602 ]\t[13517399.  6389617.]\t[65731. 31385.]    \n",
            "36 \t182   \t[7282685.32 3419137.18]  \t[4148158.81114973 1961810.86437817]\t[13517399.  6389617.]\t[65731. 31385.]    \n",
            "37 \t177   \t[6609575.54 3098024.83]  \t[4129871.90050733 1949397.9194807 ]\t[13517399.  6389617.]\t[65731. 31385.]    \n",
            "38 \t176   \t[6995652.04 3284496.58]  \t[3995705.98776136 1892183.80251474]\t[13517399.  6389617.]\t[65731. 31385.]    \n",
            "39 \t184   \t[6642158.54 3116729.82]  \t[4034681.60923949 1908573.50112663]\t[13517399.  6389617.]\t[163157.  75713.]  \n",
            "40 \t182   \t[6979039.27 3279116.74]  \t[4144605.16349155 1961814.14742688]\t[13517399.  6389617.]\t[163157.  75713.]  \n",
            "41 \t174   \t[6336667.29 2974656.58]  \t[4020584.717856  1898701.3837187]  \t[13517399.  6389617.]\t[163157.  75713.]  \n",
            "42 \t177   \t[7059562.73 3310450.91]  \t[3864221.42121478 1825892.0919904 ]\t[13517399.  6389617.]\t[97426. 44328.]    \n",
            "43 \t182   \t[6650420.65 3118188.04]  \t[4168227.75254154 1968721.61752801]\t[13517399.  6389617.]\t[0. 0.]            \n",
            "44 \t179   \t[7101507.01 3334332.6 ]  \t[4246930.94748803 2008212.0588085 ]\t[13517399.  6389617.]\t[163157.  75713.]  \n",
            "45 \t183   \t[6720541.04 3154764.78]  \t[3911921.60164318 1849555.71451566]\t[13517399.  6389617.]\t[163157.  75713.]  \n",
            "46 \t180   \t[6625978.   3109111.93]  \t[4028474.68315374 1905010.04487979]\t[13517399.  6389617.]\t[163157.  75713.]  \n",
            "47 \t174   \t[7186562.17 3370590.88]  \t[3846530.43943809 1820393.68773504]\t[13517399.  6389617.]\t[167092.  78938.]  \n",
            "48 \t181   \t[7104733.25 3332156.98]  \t[3951321.68918285 1870131.22911838]\t[13517399.  6389617.]\t[97426. 44328.]    \n",
            "49 \t171   \t[6953423.38 3261359.03]  \t[3856612.29079965 1826240.83673959]\t[13517399.  6389617.]\t[167092.  78938.]  \n",
            "50 \t174   \t[7027590.85 3296061.78]  \t[3934021.66745423 1861436.63603377]\t[13517399.  6389617.]\t[167092.  78938.]  \n",
            "51 \t183   \t[6709370.48 3146336.29]  \t[4046549.7833726  1912821.11950537]\t[13517399.  6389617.]\t[97426. 44328.]    \n",
            "52 \t176   \t[7054021.65 3307344.97]  \t[3822526.50902047 1808458.08137704]\t[13517399.  6389617.]\t[167092.  78938.]  \n",
            "53 \t178   \t[6966754.12 3266778.47]  \t[3962986.39228668 1873937.44473031]\t[13517399.  6389617.]\t[167092.  78938.]  \n",
            "54 \t178   \t[7314352.3 3433085. ]    \t[3915732.85220819 1853980.77607827]\t[13517399.  6389617.]\t[167092.  78938.]  \n",
            "55 \t176   \t[7222794.06 3389264.65]  \t[4100968.94631036 1940226.71256342]\t[13517399.  6389617.]\t[167092.  78938.]  \n",
            "56 \t180   \t[6451624.93 3022511.35]  \t[3931188.07083652 1853707.6988461 ]\t[13517399.  6389617.]\t[167092.  78938.]  \n",
            "57 \t179   \t[6598409.5  3094551.19]  \t[4062805.8952439  1915518.07739592]\t[13517399.  6389617.]\t[167092.  78938.]  \n",
            "58 \t181   \t[7028277.88 3298787.43]  \t[4054718.87402844 1917300.54597265]\t[13517399.  6389617.]\t[167092.  78938.]  \n",
            "59 \t180   \t[7088991.86 3329457.67]  \t[4239766.33344528 2007960.41926125]\t[13517399.  6389617.]\t[167092.  78938.]  \n",
            "60 \t180   \t[7423074.33 3488844.18]  \t[4315557.40637113 2047818.60425972]\t[13517399.  6389617.]\t[0. 0.]            \n",
            "61 \t185   \t[7090949.14 3325713.63]  \t[4044172.31940273 1916205.88842331]\t[13517399.  6389617.]\t[0. 0.]            \n",
            "62 \t187   \t[6582689.45 3085711.79]  \t[3809680.21746002 1804728.58006669]\t[13517399.  6389617.]\t[0. 0.]            \n",
            "63 \t177   \t[6467814.49 3033126.12]  \t[3888827.94326979 1843847.80935346]\t[13517399.  6389617.]\t[0. 0.]            \n",
            "64 \t179   \t[6724351.79 3155563.96]  \t[4026909.10735883 1904983.45954612]\t[13517399.  6389617.]\t[0. 0.]            \n",
            "65 \t182   \t[6319084.75 2963454.73]  \t[4105605.33770693 1939462.58453755]\t[13517399.  6389617.]\t[0. 0.]            \n",
            "66 \t190   \t[6693300.88 3140253.78]  \t[4035453.13316906 1906704.05287298]\t[13517399.  6389617.]\t[0. 0.]            \n",
            "67 \t185   \t[6712249.51 3146653.33]  \t[3830583.37041139 1810128.80426134]\t[13517399.  6389617.]\t[0. 0.]            \n",
            "68 \t186   \t[6337617.93 2969802.12]  \t[3902208.01917612 1846177.37354886]\t[13517399.  6389617.]\t[0. 0.]            \n",
            "69 \t184   \t[6892492.2  3228115.96]  \t[3938866.9986851  1863231.94794044]\t[13517399.  6389617.]\t[0. 0.]            \n",
            "70 \t172   \t[7319388.76 3429408.7 ]  \t[3912477.8627665  1852240.80772469]\t[13517399.  6389617.]\t[0. 0.]            \n",
            "71 \t182   \t[7016248.54 3288644.43]  \t[4113202.3601267  1946335.98770796]\t[13517399.  6389617.]\t[0. 0.]            \n",
            "72 \t177   \t[7138132.53 3344573.52]  \t[3750624.32766017 1776179.69135383]\t[13517399.  6389617.]\t[0. 0.]            \n",
            "73 \t179   \t[6620958.65 3105725.18]  \t[3712611.00672152 1761228.18812237]\t[13517399.  6389617.]\t[0. 0.]            \n",
            "74 \t185   \t[7200362.22 3375205.74]  \t[3566214.3056506  1688731.89460161]\t[13517399.  6389617.]\t[0. 0.]            \n",
            "75 \t181   \t[7356205.47 3446355.91]  \t[3717774.97988591 1759395.40322461]\t[13517399.  6389617.]\t[0. 0.]            \n",
            "76 \t183   \t[6982248.11 3272190.37]  \t[4005447.51021559 1891180.69641237]\t[13517399.  6389617.]\t[0. 0.]            \n",
            "77 \t165   \t[6505998.96 3050795.08]  \t[4167831.63199661 1966666.89202632]\t[13517399.  6389617.]\t[0. 0.]            \n",
            "78 \t178   \t[6548436.55 3072322.98]  \t[4065488.98728256 1920014.44876388]\t[13517399.  6389617.]\t[0. 0.]            \n",
            "79 \t178   \t[6762706.55 3168713.54]  \t[3823438.91264626 1809280.50880149]\t[13517399.  6389617.]\t[0. 0.]            \n",
            "80 \t181   \t[6837093.69 3204549.17]  \t[4037389.50399671 1908852.21746054]\t[13517399.  6389617.]\t[0. 0.]            \n",
            "81 \t176   \t[6771594.39 3173102.7 ]  \t[3874283.94937928 1833488.90910283]\t[13517399.  6389617.]\t[97426. 44328.]    \n",
            "82 \t171   \t[6514153.83 3050893.36]  \t[3863847.62620691 1823874.07295277]\t[13517399.  6389617.]\t[167092.  78938.]  \n",
            "83 \t182   \t[7055840.55 3305730.95]  \t[3878488.98432249 1830682.01820355]\t[13517399.  6389617.]\t[167092.  78938.]  \n",
            "84 \t175   \t[6779109.36 3177683.37]  \t[3923315.94399134 1856185.55083609]\t[13517399.  6389617.]\t[167092.  78938.]  \n",
            "85 \t180   \t[7214581.27 3380816.29]  \t[3989443.96903684 1884659.38054036]\t[13517399.  6389617.]\t[167092.  78938.]  \n",
            "86 \t175   \t[6624891.74 3106625.71]  \t[4212132.92701165 1991410.06173153]\t[13517399.  6389617.]\t[65731. 31385.]    \n",
            "87 \t179   \t[7142619.14 3350214.89]  \t[4060071.13459006 1920416.92411401]\t[13517399.  6389617.]\t[65731. 31385.]    \n",
            "88 \t174   \t[7350965.31 3448811.21]  \t[4174015.87277805 1974002.37549708]\t[13517399.  6389617.]\t[167092.  78938.]  \n",
            "89 \t181   \t[6987847.59 3273434.95]  \t[3929853.15125163 1854859.19650092]\t[13517399.  6389617.]\t[167092.  78938.]  \n",
            "90 \t173   \t[7053071.25 3303856.93]  \t[3894885.4535655 1837621.8551945]  \t[13517399.  6389617.]\t[167092.  78938.]  \n",
            "91 \t182   \t[6911581.56 3238022.59]  \t[4023518.7827232  1898513.37190837]\t[13517399.  6389617.]\t[0. 0.]            \n",
            "92 \t178   \t[6659503.88 3120961.28]  \t[4025037.83915349 1900390.69626294]\t[13517399.  6389617.]\t[0. 0.]            \n",
            "93 \t173   \t[6701596.96 3145368.17]  \t[4138246.57821785 1954841.00392787]\t[13517399.  6389617.]\t[0. 0.]            \n",
            "94 \t175   \t[6615111.67 3104293.05]  \t[4103666.72660111 1937948.13016684]\t[13517399.  6389617.]\t[0. 0.]            \n",
            "95 \t183   \t[7036644.46 3301650.66]  \t[4035416.62518988 1908812.7391264 ]\t[13517399.  6389617.]\t[0. 0.]            \n",
            "96 \t177   \t[6805294.35 3192345.88]  \t[4222162.70965355 1994084.28472961]\t[13517399.  6389617.]\t[0. 0.]            \n",
            "97 \t172   \t[6907010.06 3239027.64]  \t[4066588.57113086 1920523.8049983 ]\t[13517399.  6389617.]\t[0. 0.]            \n",
            "98 \t183   \t[6779430.65 3178053.34]  \t[4084067.03413164 1930380.37368621]\t[13517399.  6389617.]\t[0. 0.]            \n",
            "99 \t181   \t[6646933.62 3115748.19]  \t[3936103.49696236 1861256.58141438]\t[13517399.  6389617.]\t[0. 0.]            \n",
            "100\t180   \t[7196828.85 3376991.98]  \t[4026850.11705195 1905175.3480732 ]\t[13517399.  6389617.]\t[0. 0.]            \n",
            "101\t178   \t[7125459.72 3343291.71]  \t[3993815.50893415 1885459.21618429]\t[13517399.  6389617.]\t[0. 0.]            \n",
            "102\t176   \t[7009631.05 3286917.54]  \t[3979154.04191385 1880407.42067322]\t[13517399.  6389617.]\t[0. 0.]            \n",
            "103\t174   \t[6750379.8  3165723.08]  \t[4016216.72108485 1895425.07253976]\t[13517399.  6389617.]\t[0. 0.]            \n",
            "104\t180   \t[6784775.94 3181335.79]  \t[3895978.96775829 1839613.9595124 ]\t[13517399.  6389617.]\t[0. 0.]            \n",
            "105\t183   \t[6897628.48 3235339.28]  \t[3956557.46799498 1867983.56113966]\t[13517399.  6389617.]\t[0. 0.]            \n",
            "106\t180   \t[6467631.73 3030722.94]  \t[3967737.16053296 1873342.2529078 ]\t[13517399.  6389617.]\t[97426. 44328.]    \n",
            "107\t176   \t[7192555.54 3373382.07]  \t[4015339.13939531 1898852.72288991]\t[13517399.  6389617.]\t[97426. 44328.]    \n",
            "108\t184   \t[6362001.99 2979210.78]  \t[3794976.67171783 1789678.58767983]\t[13517399.  6389617.]\t[97426. 44328.]    \n",
            "109\t181   \t[6368970.96 2982262.73]  \t[3900323.42691106 1839086.11324899]\t[13517399.  6389617.]\t[0. 0.]            \n",
            "110\t183   \t[6913447.37 3240344.21]  \t[3944495.3041758  1862264.82716829]\t[13517399.  6389617.]\t[0. 0.]            \n",
            "111\t178   \t[7041466.29 3301684.06]  \t[3953274.67169655 1866641.48602762]\t[13517399.  6389617.]\t[0. 0.]            \n",
            "112\t184   \t[6797966.82 3184817.53]  \t[3819771.53461942 1803118.9968686 ]\t[13517399.  6389617.]\t[0. 0.]            \n",
            "113\t174   \t[6840049.7  3202903.89]  \t[3849088.27218636 1815873.6889265 ]\t[13517399.  6389617.]\t[65731. 31385.]    \n",
            "114\t184   \t[7228189.43 3386170.85]  \t[3760205.6007133  1778030.72952221]\t[13517399.  6389617.]\t[65731. 31385.]    \n",
            "115\t184   \t[6742851.42 3161025.68]  \t[3959183.67667602 1872443.89699757]\t[13517399.  6389617.]\t[65731. 31385.]    \n",
            "116\t181   \t[6992573.14 3279782.05]  \t[3954957.5222637  1871171.42567785]\t[13517399.  6389617.]\t[65731. 31385.]    \n",
            "117\t182   \t[6578409.61 3085139.83]  \t[3968923.2441801  1876712.21189012]\t[13517399.  6389617.]\t[65731. 31385.]    \n",
            "118\t184   \t[6963612.7  3266636.74]  \t[3999516.96576413 1889195.57403685]\t[13517399.  6389617.]\t[65731. 31385.]    \n",
            "119\t184   \t[6913870.32 3243581.99]  \t[3970294.13492504 1875112.24072861]\t[13517399.  6389617.]\t[65731. 31385.]    \n",
            "120\t179   \t[7168263.78 3360474.71]  \t[3956336.61384354 1869694.30799779]\t[13517399.  6389617.]\t[65731. 31385.]    \n",
            "121\t175   \t[6708686.63 3144041.32]  \t[3965513.35590246 1875659.01708095]\t[13517399.  6389617.]\t[65731. 31385.]    \n",
            "122\t191   \t[6577245.83 3085566.34]  \t[4152436.50622641 1964347.2830143 ]\t[13517399.  6389617.]\t[65731. 31385.]    \n",
            "123\t180   \t[6920920.99 3243461.51]  \t[3861438.58193165 1825144.96911183]\t[13517399.  6389617.]\t[65731. 31385.]    \n",
            "124\t183   \t[6690372.19 3133373.36]  \t[4084950.6784559  1930371.92138348]\t[13517399.  6389617.]\t[65731. 31385.]    \n",
            "125\t183   \t[6771365.27 3172559.45]  \t[4026137.33094628 1903244.50304938]\t[13517399.  6389617.]\t[65731. 31385.]    \n",
            "126\t185   \t[6623198.57 3100027.49]  \t[3832892.37211996 1809933.74760982]\t[13517399.  6389617.]\t[65731. 31385.]    \n",
            "127\t172   \t[6752949.34 3161953.81]  \t[3974053.16747719 1876939.64120792]\t[13517399.  6389617.]\t[65731. 31385.]    \n",
            "128\t181   \t[6705890.2  3139310.75]  \t[3829418.1265789  1807508.63001346]\t[13517399.  6389617.]\t[65731. 31385.]    \n",
            "129\t187   \t[6686359.41 3131715.71]  \t[3866911.24508084 1827320.00741583]\t[13517399.  6389617.]\t[163157.  75713.]  \n",
            "130\t179   \t[6666708.17 3123504.75]  \t[3936632.28896612 1857714.61741078]\t[13517399.  6389617.]\t[0. 0.]            \n",
            "131\t181   \t[6717700.72 3151040.39]  \t[4193284.97730036 1983026.69489281]\t[13517399.  6389617.]\t[0. 0.]            \n",
            "132\t183   \t[6728582.26 3154986.02]  \t[3899980.58554437 1847688.61738913]\t[13517399.  6389617.]\t[0. 0.]            \n",
            "133\t177   \t[6828142.55 3200824.35]  \t[4058967.03184175 1918188.69524032]\t[13517399.  6389617.]\t[0. 0.]            \n",
            "134\t181   \t[7013587.85 3286110.72]  \t[4014718.36192008 1898133.84616502]\t[13517399.  6389617.]\t[0. 0.]            \n",
            "135\t179   \t[7175728.66 3361503.81]  \t[3859616.25333723 1826501.1610117 ]\t[13517399.  6389617.]\t[0. 0.]            \n",
            "136\t184   \t[6848604.   3205658.51]  \t[3830129.34591023 1810385.5149617 ]\t[13517399.  6389617.]\t[0. 0.]            \n",
            "137\t174   \t[6750720.55 3160180.97]  \t[3982813.3052296  1881370.39963368]\t[13517399.  6389617.]\t[65731. 31385.]    \n",
            "138\t181   \t[6703790.4 3140329.5]    \t[4094031.80231243 1933291.95625126]\t[13517399.  6389617.]\t[65731. 31385.]    \n",
            "139\t179   \t[6633515.91 3107797.4 ]  \t[3999190.11043982 1889363.46478514]\t[13517399.  6389617.]\t[65731. 31385.]    \n",
            "140\t173   \t[6367540.05 2985820.15]  \t[4172786.43661992 1972066.67478222]\t[13517399.  6389617.]\t[65731. 31385.]    \n",
            "141\t176   \t[6790598.5  3186052.69]  \t[4020864.23291806 1900227.46376532]\t[13517399.  6389617.]\t[65731. 31385.]    \n",
            "142\t173   \t[6744101.69 3164263.69]  \t[3913439.21853999 1849098.44914703]\t[13517399.  6389617.]\t[65731. 31385.]    \n",
            "143\t184   \t[6524079.42 3058573.2 ]  \t[3961274.71697247 1870754.77149805]\t[13517399.  6389617.]\t[65731. 31385.]    \n",
            "144\t179   \t[6956611.08 3261969.92]  \t[4026819.8694084  1903107.18295467]\t[13517399.  6389617.]\t[65731. 31385.]    \n",
            "145\t177   \t[7158146.07 3356895.09]  \t[3922808.16341908 1855389.95771069]\t[13517399.  6389617.]\t[135397.  65995.]  \n",
            "146\t178   \t[7014552.88 3286944.13]  \t[3824331.30478662 1809116.15848319]\t[13517399.  6389617.]\t[135397.  65995.]  \n",
            "147\t174   \t[7163725.88 3360714.41]  \t[3874557.79229895 1834285.13100694]\t[13517399.  6389617.]\t[135397.  65995.]  \n",
            "148\t179   \t[7125960.02 3345751.63]  \t[4099266.80621533 1940441.40921236]\t[13517399.  6389617.]\t[135397.  65995.]  \n",
            "149\t180   \t[6953847.46 3263683.36]  \t[4125445.39291899 1951345.25134602]\t[13517399.  6389617.]\t[135397.  65995.]  \n",
            "150\t181   \t[7058235.6  3316277.28]  \t[4095608.87594361 1939204.09298077]\t[13517399.  6389617.]\t[135397.  65995.]  \n",
            "151\t176   \t[6849561.68 3217805.79]  \t[4150080.3019226  1965143.56314207]\t[13517399.  6389617.]\t[135397.  65995.]  \n",
            "152\t172   \t[6486487.83 3047952.13]  \t[4150772.09914183 1961992.40758078]\t[13517399.  6389617.]\t[65731. 31385.]    \n",
            "153\t184   \t[6217341.84 2917853.33]  \t[4067542.29232908 1921691.04987048]\t[13517399.  6389617.]\t[135397.  65995.]  \n",
            "154\t184   \t[6598853.72 3101102.05]  \t[4324343.1958168  2042770.77389142]\t[13517399.  6389617.]\t[65731. 31385.]    \n",
            "155\t181   \t[7040712.76 3306581.82]  \t[3956767.65559911 1871886.55495354]\t[13517399.  6389617.]\t[65731. 31385.]    \n",
            "156\t175   \t[6912378.27 3247842.15]  \t[3956806.21202218 1873768.32491198]\t[13517399.  6389617.]\t[65731. 31385.]    \n",
            "157\t176   \t[6303610.66 2962101.22]  \t[4020129.87394825 1903403.2560108 ]\t[13517399.  6389617.]\t[65731. 31385.]    \n",
            "158\t181   \t[6529158.2  3067542.47]  \t[4072314.86699617 1927239.35714708]\t[13517399.  6389617.]\t[65731. 31385.]    \n",
            "159\t177   \t[6525298.63 3069585.77]  \t[4357372.52048768 2061592.90524823]\t[13517399.  6389617.]\t[65731. 31385.]    \n",
            "160\t184   \t[7067455.66 3324814.45]  \t[4178423.01535435 1977895.93115091]\t[13517399.  6389617.]\t[65731. 31385.]    \n",
            "161\t177   \t[7039113.02 3306035.71]  \t[3742226.85449359 1773488.57790228]\t[13517399.  6389617.]\t[65731. 31385.]    \n",
            "162\t178   \t[6946068.75 3265458.42]  \t[4140134.2697107  1959129.15324206]\t[13517399.  6389617.]\t[65731. 31385.]    \n",
            "163\t178   \t[6578641.7  3090258.24]  \t[3974656.87672519 1876863.32889749]\t[13517399.  6389617.]\t[65731. 31385.]    \n",
            "164\t183   \t[6560662.42 3081911.35]  \t[4059110.36204168 1918559.30667867]\t[13517399.  6389617.]\t[65731. 31385.]    \n",
            "165\t174   \t[6373401.31 2993723.61]  \t[4112798.24635521 1942489.28032789]\t[13517399.  6389617.]\t[65731. 31385.]    \n",
            "166\t184   \t[6639729.53 3119791.2 ]  \t[3967356.67372515 1874245.78963325]\t[13517399.  6389617.]\t[135397.  65995.]  \n",
            "167\t174   \t[7245891.97 3402094.08]  \t[3825337.92269991 1808127.42661105]\t[13517399.  6389617.]\t[232823. 110323.]  \n",
            "168\t174   \t[7317376.47 3434314.05]  \t[3707565.8992174  1751201.81936011]\t[13517399.  6389617.]\t[232823. 110323.]  \n",
            "169\t181   \t[6454557.27 3029675.87]  \t[3864443.76652401 1824387.32541768]\t[13517399.  6389617.]\t[65731. 31385.]    \n",
            "170\t178   \t[6501307.76 3050001.02]  \t[3943066.02409505 1861388.76071631]\t[13517399.  6389617.]\t[65731. 31385.]    \n",
            "171\t176   \t[6875321.84 3227895.33]  \t[4199817.26166418 1984355.38857703]\t[13517399.  6389617.]\t[65731. 31385.]    \n",
            "172\t173   \t[7057945.19 3314621.45]  \t[4195716.13160083 1984222.55953739]\t[13517399.  6389617.]\t[65731. 31385.]    \n",
            "173\t181   \t[6618129.31 3104769.14]  \t[3943519.29496871 1861938.9201229 ]\t[13517399.  6389617.]\t[65731. 31385.]    \n",
            "174\t179   \t[6842241.66 3208730.18]  \t[4092389.01980754 1931260.78941659]\t[13517399.  6389617.]\t[65731. 31385.]    \n",
            "175\t177   \t[6847957.49 3211842.95]  \t[3974304.53164714 1876198.9668921 ]\t[13517399.  6389617.]\t[65731. 31385.]    \n",
            "176\t177   \t[7165140.97 3360453.78]  \t[3908329.21032956 1845338.28173862]\t[13517399.  6389617.]\t[65731. 31385.]    \n",
            "177\t182   \t[6927455.54 3252085.77]  \t[4156688.09915966 1963961.01925248]\t[13517399.  6389617.]\t[65731. 31385.]    \n",
            "178\t173   \t[7018636.14 3292807.13]  \t[3910330.89026928 1847648.57444477]\t[13517399.  6389617.]\t[65731. 31385.]    \n",
            "179\t176   \t[7134637.43 3349208.98]  \t[4169280.58148384 1971410.93898544]\t[13517399.  6389617.]\t[65731. 31385.]    \n",
            "180\t183   \t[7371497.5 3463207.9]    \t[4124718.64360208 1952159.45492543]\t[13517399.  6389617.]\t[65731. 31385.]    \n",
            "181\t176   \t[7255442.55 3407391.18]  \t[4084895.03877941 1930977.62121287]\t[13517399.  6389617.]\t[65731. 31385.]    \n",
            "182\t178   \t[7597657.34 3570558.37]  \t[4413247.43953921 2087901.80121626]\t[13517399.  6389617.]\t[65731. 31385.]    \n",
            "183\t181   \t[6839934.71 3208097.25]  \t[4049952.7842672  1913036.23636741]\t[13517399.  6389617.]\t[65731. 31385.]    \n",
            "184\t176   \t[6634916.09 3110600.3 ]  \t[3831924.65058308 1810582.31957059]\t[13517399.  6389617.]\t[65731. 31385.]    \n",
            "185\t182   \t[6610168.82 3099655.37]  \t[3976082.96286795 1876076.37957317]\t[13517399.  6389617.]\t[65731. 31385.]    \n",
            "186\t178   \t[6493759.12 3045454.31]  \t[4122919.1003215  1944691.93934568]\t[13517399.  6389617.]\t[0. 0.]            \n",
            "187\t172   \t[6765357.29 3173313.09]  \t[4126967.31538575 1949261.46617282]\t[13517399.  6389617.]\t[0. 0.]            \n",
            "188\t181   \t[7710918.44 3620353.94]  \t[4064141.69361161 1922743.29595911]\t[13517399.  6389617.]\t[0. 0.]            \n",
            "189\t179   \t[6721509.33 3151180.71]  \t[3919049.20934773 1852524.19067298]\t[13517399.  6389617.]\t[0. 0.]            \n",
            "190\t178   \t[6948208.4  3259043.41]  \t[4100611.10847566 1937517.48241995]\t[13517399.  6389617.]\t[0. 0.]            \n",
            "191\t183   \t[6432842.24 3015251.38]  \t[4134129.926126   1952413.64687265]\t[13517399.  6389617.]\t[0. 0.]            \n",
            "192\t183   \t[7123845.74 3344454.87]  \t[4013303.37336246 1900957.25612263]\t[13517399.  6389617.]\t[135397.  65995.]  \n",
            "193\t182   \t[7271458.41 3417201.04]  \t[4183868.28273971 1981073.18904352]\t[13517399.  6389617.]\t[135397.  65995.]  \n",
            "194\t179   \t[7106618.81 3340992.39]  \t[4148471.26234279 1965861.28832533]\t[13517399.  6389617.]\t[135397.  65995.]  \n",
            "195\t173   \t[7102769.91 3338729.29]  \t[4169874.46064681 1975881.0636446 ]\t[13517399.  6389617.]\t[135397.  65995.]  \n",
            "196\t174   \t[7291934.06 3426305.16]  \t[4084024.36543608 1933146.34199366]\t[13517399.  6389617.]\t[135397.  65995.]  \n",
            "197\t175   \t[6995423.4  3287244.65]  \t[4236086.36978574 2004385.26309333]\t[13517399.  6389617.]\t[65731. 31385.]    \n",
            "198\t171   \t[6858621.69 3218671.44]  \t[4064901.19282385 1922392.97544661]\t[13517399.  6389617.]\t[65731. 31385.]    \n",
            "199\t178   \t[6683456.48 3137598.03]  \t[4045731.52014447 1914550.07952518]\t[13517399.  6389617.]\t[0. 0.]            \n",
            "200\t180   \t[6327087.6  2967068.78]  \t[3941637.9763401  1862718.29465104]\t[13517399.  6389617.]\t[0. 0.]            \n",
            "201\t184   \t[6810597.33 3197966.87]  \t[3994778.46463421 1889532.2643744 ]\t[13517399.  6389617.]\t[0. 0.]            \n",
            "202\t181   \t[7069949.16 3321361.45]  \t[4168300.42436441 1972570.13432273]\t[13517399.  6389617.]\t[0. 0.]            \n",
            "203\t179   \t[6749107.96 3167029.77]  \t[4008178.77198922 1895525.21002261]\t[13517399.  6389617.]\t[0. 0.]            \n",
            "204\t185   \t[6506367.68 3050916.41]  \t[3979383.09581422 1880072.5447327 ]\t[13517399.  6389617.]\t[0. 0.]            \n",
            "205\t179   \t[7019450.26 3295724.08]  \t[4090326.07330302 1934402.51886818]\t[13517399.  6389617.]\t[0. 0.]            \n",
            "206\t172   \t[7020390.15 3293599.98]  \t[3921298.62142219 1850403.31708279]\t[13517399.  6389617.]\t[0. 0.]            \n",
            "207\t176   \t[6722482.14 3159796.35]  \t[4039093.29208478 1908896.25914677]\t[13517399.  6389617.]\t[0. 0.]            \n",
            "208\t187   \t[7140251.12 3355872.82]  \t[3971136.72619435 1877520.73519317]\t[13517399.  6389617.]\t[0. 0.]            \n",
            "209\t183   \t[6949154.68 3263765.67]  \t[4057279.15304189 1918528.34510512]\t[13517399.  6389617.]\t[0. 0.]            \n",
            "210\t184   \t[6556334.5  3075536.53]  \t[3902258.24939186 1844627.56678788]\t[13517399.  6389617.]\t[0. 0.]            \n",
            "211\t177   \t[6737612.37 3160644.4 ]  \t[3863252.5642381  1828968.94162382]\t[13517399.  6389617.]\t[65731. 31385.]    \n",
            "212\t172   \t[6849719.2  3215829.15]  \t[3952734.55130493 1869795.72620802]\t[13517399.  6389617.]\t[65731. 31385.]    \n",
            "213\t174   \t[6471347.04 3035080.63]  \t[4014947.04050485 1897770.36070625]\t[13517399.  6389617.]\t[0. 0.]            \n",
            "214\t180   \t[6857651.7  3215425.67]  \t[3826821.89633781 1807198.46656521]\t[13517399.  6389617.]\t[0. 0.]            \n",
            "215\t185   \t[6815024.05 3197215.6 ]  \t[4061287.64831319 1918402.54984492]\t[13517399.  6389617.]\t[0. 0.]            \n",
            "216\t180   \t[7168320.2  3361954.97]  \t[3836515.18746363 1813403.12542288]\t[13517399.  6389617.]\t[167092.  78938.]  \n",
            "217\t178   \t[6833320.93 3205698.96]  \t[3909904.64853106 1848798.65523776]\t[13517399.  6389617.]\t[0. 0.]            \n",
            "218\t176   \t[6645338.46 3120072.59]  \t[3890265.97754981 1838823.69371346]\t[13517399.  6389617.]\t[0. 0.]            \n",
            "219\t184   \t[7130487.88 3347748.29]  \t[4158622.01983203 1965555.10611571]\t[13517399.  6389617.]\t[0. 0.]            \n",
            "220\t182   \t[6716704.2  3151209.93]  \t[3897426.57128731 1842359.06803704]\t[13517399.  6389617.]\t[0. 0.]            \n",
            "221\t175   \t[6834345.48 3208793.08]  \t[3878794.67239631 1836486.83093637]\t[13517399.  6389617.]\t[0. 0.]            \n",
            "222\t181   \t[6726909.79 3155510.99]  \t[3856655.88138943 1827429.32215601]\t[13517399.  6389617.]\t[0. 0.]            \n",
            "223\t184   \t[6716909.38 3149610.65]  \t[3904193.78922204 1846014.18078784]\t[13517399.  6389617.]\t[0. 0.]            \n",
            "224\t182   \t[6117426.92 2866567.91]  \t[3919505.14577142 1848478.93677175]\t[13517399.  6389617.]\t[0. 0.]            \n",
            "225\t178   \t[5971996.59 2799027.74]  \t[4144125.17713585 1954685.41054867]\t[13517399.  6389617.]\t[0. 0.]            \n",
            "226\t183   \t[6625038.61 3110987.95]  \t[4183846.94471129 1977381.70823165]\t[13517399.  6389617.]\t[0. 0.]            \n",
            "227\t175   \t[6508959.63 3055676.04]  \t[4127723.02825072 1950258.42390474]\t[13517399.  6389617.]\t[0. 0.]            \n",
            "228\t182   \t[6541980.55 3070731.79]  \t[4024428.71711678 1903051.12050552]\t[13517399.  6389617.]\t[0. 0.]            \n",
            "229\t181   \t[6810398.14 3195837.37]  \t[4106935.08678772 1941626.3971552 ]\t[13517399.  6389617.]\t[0. 0.]            \n",
            "230\t178   \t[7138350.13 3353424.03]  \t[4219246.88386036 1995746.08134317]\t[13517399.  6389617.]\t[0. 0.]            \n",
            "231\t183   \t[6822586.82 3200253.2 ]  \t[3936417.59841302 1858739.57850097]\t[13517399.  6389617.]\t[0. 0.]            \n",
            "232\t176   \t[6795646.08 3188951.76]  \t[4208229.32678472 1987493.868457  ]\t[13517399.  6389617.]\t[0. 0.]            \n",
            "233\t177   \t[7328115.75 3438151.36]  \t[3884537.37111248 1837035.21396781]\t[13517399.  6389617.]\t[369261. 169684.]  \n",
            "234\t181   \t[7533536.16 3535957.84]  \t[3972696.33675958 1880927.17023226]\t[13517399.  6389617.]\t[369261. 169684.]  \n",
            "235\t185   \t[7076635.85 3320487.88]  \t[3911614.15445341 1848959.46064167]\t[13517399.  6389617.]\t[167092.  78938.]  \n",
            "236\t176   \t[7126877.54 3342646.35]  \t[3825167.97002491 1808479.28159543]\t[13517399.  6389617.]\t[167092.  78938.]  \n",
            "237\t188   \t[6970717.3  3267605.89]  \t[3858803.0033433 1824792.6867448]  \t[13517399.  6389617.]\t[167092.  78938.]  \n",
            "238\t181   \t[7019680.43 3290694.94]  \t[3949850.68557973 1868852.93806849]\t[13517399.  6389617.]\t[167092.  78938.]  \n",
            "239\t176   \t[6602332.94 3094263.05]  \t[3904068.67538104 1844682.04697965]\t[13517399.  6389617.]\t[97426. 44328.]    \n",
            "240\t179   \t[7081148.19 3317511.62]  \t[3706736.22531589 1751444.38871353]\t[13517399.  6389617.]\t[97426. 44328.]    \n",
            "241\t180   \t[7031427.25 3299776.49]  \t[3827399.89576682 1809726.77119855]\t[13517399.  6389617.]\t[97426. 44328.]    \n",
            "242\t183   \t[6993053.58 3278958.41]  \t[3956524.52257091 1868954.12858085]\t[13517399.  6389617.]\t[167092.  78938.]  \n",
            "243\t184   \t[7017032.1  3288941.45]  \t[3763506.18541139 1775941.65723395]\t[13517399.  6389617.]\t[167092.  78938.]  \n",
            "244\t176   \t[6910179.15 3240513.27]  \t[3993574.5538376 1883282.3757864]  \t[13517399.  6389617.]\t[167092.  78938.]  \n",
            "245\t179   \t[6773181.57 3175069.79]  \t[3888231.09551178 1835850.83060982]\t[13517399.  6389617.]\t[167092.  78938.]  \n",
            "246\t183   \t[6639396.49 3110769.99]  \t[4040026.80790342 1908913.33783727]\t[13517399.  6389617.]\t[0. 0.]            \n",
            "247\t183   \t[6743922.25 3160532.23]  \t[3930972.22415962 1857998.43971856]\t[13517399.  6389617.]\t[0. 0.]            \n",
            "248\t190   \t[6491135.05 3040592.97]  \t[4022964.90152372 1899881.52400455]\t[13517399.  6389617.]\t[0. 0.]            \n",
            "249\t180   \t[7289976.39 3419616.56]  \t[4111306.80037313 1944676.59666701]\t[13517399.  6389617.]\t[0. 0.]            \n",
            "250\t186   \t[6833693.98 3204294.76]  \t[4219552.05552651 1993991.82441215]\t[13517399.  6389617.]\t[0. 0.]            \n",
            "251\t178   \t[6658560.83 3122801.92]  \t[4098929.77786326 1935926.82026335]\t[13517399.  6389617.]\t[0. 0.]            \n",
            "252\t180   \t[7100703.85 3328901.83]  \t[3901682.8432783  1844476.34113091]\t[13517399.  6389617.]\t[0. 0.]            \n",
            "253\t173   \t[7223195.84 3388011.26]  \t[3996012.70486101 1887307.84803381]\t[13517399.  6389617.]\t[0. 0.]            \n",
            "254\t183   \t[6802245.03 3190745.27]  \t[4001882.26911049 1889702.25376536]\t[13517399.  6389617.]\t[0. 0.]            \n",
            "255\t174   \t[6642196.91 3112951.4 ]  \t[3886474.5522741  1837760.04813033]\t[13517399.  6389617.]\t[0. 0.]            \n",
            "256\t176   \t[7051397.74 3303083.34]  \t[3891983.53459471 1839913.22364863]\t[13521334.  6392842.]\t[0. 0.]            \n",
            "257\t182   \t[6495174.16 3043636.77]  \t[4167645.50275586 1967657.89428369]\t[13521334.  6392842.]\t[0. 0.]            \n",
            "258\t184   \t[6616671.25 3099918.19]  \t[3974760.21347604 1877233.16129607]\t[13521334.  6392842.]\t[0. 0.]            \n",
            "259\t174   \t[7068054.74 3313051.55]  \t[3825639.17944345 1809641.40936532]\t[13521334.  6392842.]\t[0. 0.]            \n",
            "260\t181   \t[7202931.76 3375948.01]  \t[3961545.78841517 1874615.0987522 ]\t[13521334.  6392842.]\t[0. 0.]            \n",
            "261\t176   \t[6973268.95 3265543.88]  \t[3884832.14792666 1835952.56236413]\t[13521334.  6392842.]\t[0. 0.]            \n",
            "262\t182   \t[6817933.75 3194019.4 ]  \t[4037277.86399901 1906231.48709384]\t[13521334.  6392842.]\t[97426. 44328.]    \n",
            "263\t181   \t[6660170.45 3121292.2 ]  \t[4237547.60353998 2001101.97740084]\t[13521334.  6392842.]\t[97426. 44328.]    \n",
            "264\t178   \t[6538965.13 3062915.64]  \t[4113702.47317172 1941534.29691176]\t[13521334.  6392842.]\t[167092.  78938.]  \n",
            "265\t175   \t[6780440.82 3179357.05]  \t[4219672.46726602 1992513.26270639]\t[13521334.  6392842.]\t[167092.  78938.]  \n",
            "266\t185   \t[6553741.97 3076081.35]  \t[4434681.2706683  2094743.08748867]\t[13521334.  6392842.]\t[0. 0.]            \n",
            "267\t181   \t[6092833.99 2860784.89]  \t[4332849.10298755 2048999.07931365]\t[13521334.  6392842.]\t[0. 0.]            \n",
            "268\t187   \t[6284567.14 2948735.11]  \t[4360310.13115071 2056757.93211284]\t[13521334.  6392842.]\t[0. 0.]            \n",
            "269\t174   \t[5428060.33 2545031.17]  \t[4432864.60971357 2089430.46346075]\t[13521334.  6392842.]\t[0. 0.]            \n",
            "270\t183   \t[7059252.91 3311490.9 ]  \t[3813409.96754565 1805369.54324637]\t[13521334.  6392842.]\t[0. 0.]            \n",
            "271\t182   \t[6963187.93 3268707.35]  \t[4194689.59636233 1986247.42852032]\t[13521334.  6392842.]\t[0. 0.]            \n",
            "272\t178   \t[6782905.67 3180477.99]  \t[4138623.47587317 1954639.37476765]\t[13521334.  6392842.]\t[0. 0.]            \n",
            "273\t180   \t[7217589.27 3382353.61]  \t[4104973.58493322 1941574.14468967]\t[13521334.  6392842.]\t[0. 0.]            \n",
            "274\t177   \t[7304047.63 3424146.86]  \t[4182980.77165574 1979620.54289483]\t[13521334.  6392842.]\t[97426. 44328.]    \n",
            "275\t184   \t[7354248.62 3449059.92]  \t[4177853.31663322 1978621.4363731 ]\t[13521334.  6392842.]\t[0. 0.]            \n",
            "276\t184   \t[6549277.18 3068911.21]  \t[4015851.51394027 1898308.84792129]\t[13521334.  6392842.]\t[0. 0.]            \n",
            "277\t181   \t[6841584.1  3208132.39]  \t[3979438.49759194 1882532.47357008]\t[13521334.  6392842.]\t[0. 0.]            \n",
            "278\t171   \t[6792482.98 3186498.02]  \t[4044871.51463384 1913668.44031435]\t[13521334.  6392842.]\t[0. 0.]            \n",
            "279\t182   \t[7209693.02 3381835.39]  \t[4000897.936606  1890144.5640525]  \t[13521334.  6392842.]\t[167092.  78938.]  \n",
            "280\t179   \t[6851538.43 3214084.79]  \t[4064865.53164441 1919927.22655401]\t[13521334.  6392842.]\t[167092.  78938.]  \n",
            "281\t184   \t[6673281.45 3130787.94]  \t[4137307.01206965 1954664.76193947]\t[13521334.  6392842.]\t[167092.  78938.]  \n",
            "282\t180   \t[7176617.58 3366992.6 ]  \t[3962298.13531051 1873980.88546013]\t[13521334.  6392842.]\t[167092.  78938.]  \n",
            "283\t183   \t[7142143.46 3354113.88]  \t[4278371.68920441 2024791.56310468]\t[13521334.  6392842.]\t[167092.  78938.]  \n",
            "284\t180   \t[7002809.26 3282828.93]  \t[3691193.89048423 1745806.27803763]\t[13521334.  6392842.]\t[163157.  75713.]  \n",
            "285\t173   \t[6816413.1  3198426.08]  \t[3831770.36404391 1809155.40349379]\t[13521334.  6392842.]\t[163157.  75713.]  \n",
            "286\t185   \t[6820846.43 3201259.65]  \t[4078385.62893457 1927481.25890343]\t[13521334.  6392842.]\t[163157.  75713.]  \n",
            "287\t175   \t[7167891.23 3362652.06]  \t[3795376.7790567  1795461.29999089]\t[13521334.  6392842.]\t[163157.  75713.]  \n",
            "288\t180   \t[6802812.42 3192105.6 ]  \t[4008606.89755373 1894544.06148731]\t[13521334.  6392842.]\t[163157.  75713.]  \n",
            "289\t182   \t[7052104.09 3307772.34]  \t[4034665.43861211 1908232.07281555]\t[13521334.  6392842.]\t[163157.  75713.]  \n",
            "290\t181   \t[7199777.16 3375432.27]  \t[3852594.26884439 1823476.28471993]\t[13521334.  6392842.]\t[163157.  75713.]  \n",
            "291\t168   \t[7184533.49 3372237.75]  \t[3953650.57177326 1872740.16022324]\t[13521334.  6392842.]\t[65731. 31385.]    \n",
            "292\t175   \t[6470762.35 3031917.17]  \t[3858942.72858944 1824500.20879911]\t[13521334.  6392842.]\t[65731. 31385.]    \n",
            "293\t180   \t[6668604.45 3127891.95]  \t[3934640.64010054 1863779.84922161]\t[13521334.  6392842.]\t[65731. 31385.]    \n",
            "294\t182   \t[6880154.37 3226976.  ]  \t[3998886.74030437 1890386.33987197]\t[13521334.  6392842.]\t[163157.  75713.]  \n",
            "295\t181   \t[7395507.23 3470560.97]  \t[3792634.0941361  1796544.68529914]\t[13521334.  6392842.]\t[163157.  75713.]  \n",
            "296\t171   \t[6922947.01 3251400.55]  \t[4053531.44577686 1920674.73043731]\t[13521334.  6392842.]\t[163157.  75713.]  \n",
            "297\t180   \t[6754600.51 3168926.38]  \t[4005342.6509483  1893197.40311718]\t[13521334.  6392842.]\t[65731. 31385.]    \n",
            "298\t183   \t[6871829.39 3223795.42]  \t[4084260.50233226 1932130.93636814]\t[13521334.  6392842.]\t[65731. 31385.]    \n",
            "299\t183   \t[7326945.55 3436381.71]  \t[4044171.77023197 1912826.94191922]\t[13521334.  6392842.]\t[65731. 31385.]    \n",
            "300\t186   \t[7095004.75 3330823.83]  \t[4135617.60608076 1955593.82464175]\t[13521334.  6392842.]\t[65731. 31385.]    \n",
            "301\t181   \t[6953277.7  3263604.27]  \t[4066177.6897739  1923049.46746729]\t[13521334.  6392842.]\t[0. 0.]            \n",
            "302\t177   \t[6825166.36 3202248.93]  \t[4021354.41992175 1902921.47233512]\t[13521334.  6392842.]\t[0. 0.]            \n",
            "303\t179   \t[7173707.66 3367093.08]  \t[4359224.33542387 2061460.46520046]\t[13521334.  6392842.]\t[0. 0.]            \n",
            "304\t184   \t[6959801.85 3266558.38]  \t[4292023.45698606 2030818.70508152]\t[13521334.  6392842.]\t[0. 0.]            \n",
            "305\t182   \t[6314447.93 2960687.67]  \t[4030234.62834465 1903979.0736743 ]\t[13549094.  6402560.]\t[0. 0.]            \n",
            "306\t183   \t[6487161.67 3045203.35]  \t[4038224.30926079 1909353.41301432]\t[13549094.  6402560.]\t[0. 0.]            \n",
            "307\t181   \t[6887923.26 3232899.6 ]  \t[4012716.20344431 1898141.40596023]\t[13549094.  6402560.]\t[0. 0.]            \n",
            "308\t178   \t[6905397.62 3240070.47]  \t[4086091.80157337 1932802.96329145]\t[13549094.  6402560.]\t[0. 0.]            \n",
            "309\t181   \t[6553176.7  3072581.43]  \t[4108084.55358261 1942371.88331282]\t[13549094.  6402560.]\t[0. 0.]            \n",
            "310\t183   \t[6954705.5  3263871.25]  \t[4039253.70605404 1912416.5110979 ]\t[13549094.  6402560.]\t[0. 0.]            \n",
            "311\t170   \t[6922867.55 3248719.91]  \t[3982324.02836914 1884274.04879412]\t[13549094.  6402560.]\t[167092.  78938.]  \n",
            "312\t180   \t[7381593.39 3463696.79]  \t[3808034.10448772 1803869.19579451]\t[13549094.  6402560.]\t[167092.  78938.]  \n",
            "313\t179   \t[6971209.75 3269563.34]  \t[3779297.55411069 1787956.42470197]\t[13549094.  6402560.]\t[167092.  78938.]  \n",
            "314\t181   \t[7378225.33 3460961.39]  \t[3830394.35919063 1813190.21796151]\t[13549094.  6402560.]\t[167092.  78938.]  \n",
            "315\t168   \t[7085341.06 3327023.15]  \t[3967032.34939718 1878403.19714867]\t[13549094.  6402560.]\t[167092.  78938.]  \n",
            "316\t182   \t[6917861.92 3244420.74]  \t[4069253.18052766 1921755.33934709]\t[13549094.  6402560.]\t[163157.  75713.]  \n",
            "317\t183   \t[6814696.45 3194875.85]  \t[3963898.25057972 1870821.1163097 ]\t[13549094.  6402560.]\t[0. 0.]            \n",
            "318\t181   \t[6762493.53 3169574.74]  \t[4034476.08497653 1905812.73236736]\t[13549094.  6402560.]\t[0. 0.]            \n",
            "319\t174   \t[6847897.25 3209747.3 ]  \t[4078238.10992421 1923607.30275312]\t[13549094.  6402560.]\t[0. 0.]            \n",
            "320\t180   \t[7187572.36 3369849.98]  \t[4167952.63650467 1966661.60454522]\t[13549094.  6402560.]\t[0. 0.]            \n",
            "321\t177   \t[7025389.09 3293658.88]  \t[4106158.54518637 1936991.35254327]\t[13549094.  6402560.]\t[0. 0.]            \n",
            "322\t171   \t[6986462.05 3276848.72]  \t[3961586.02008477 1869741.63605143]\t[13549094.  6402560.]\t[0. 0.]            \n",
            "323\t182   \t[6730241.38 3157116.88]  \t[4027317.34534365 1900190.1083901 ]\t[13549094.  6402560.]\t[0. 0.]            \n",
            "324\t182   \t[6626739.55 3110219.87]  \t[4142573.06372709 1953119.61046719]\t[13549094.  6402560.]\t[0. 0.]            \n",
            "325\t180   \t[6767118.13 3174007.04]  \t[4048924.03369587 1911608.88437946]\t[13549094.  6402560.]\t[0. 0.]            \n",
            "326\t182   \t[6784120.73 3183621.32]  \t[4031714.61479625 1903730.58263815]\t[13549094.  6402560.]\t[0. 0.]            \n",
            "327\t184   \t[6642864.57 3113693.11]  \t[3881690.91266483 1834134.16698068]\t[13549094.  6402560.]\t[0. 0.]            \n",
            "328\t178   \t[6932109.54 3249121.65]  \t[3907846.1997359 1848117.5133807]  \t[13549094.  6402560.]\t[0. 0.]            \n",
            "329\t181   \t[6936354.44 3251409.45]  \t[3840332.61161705 1816950.47899611]\t[13549094.  6402560.]\t[97426. 44328.]    \n",
            "330\t179   \t[6962508.32 3264919.73]  \t[4168312.39147199 1971439.46320669]\t[13549094.  6402560.]\t[97426. 44328.]    \n",
            "331\t180   \t[6773755.53 3173429.24]  \t[3976330.56727148 1878252.15636545]\t[13549094.  6402560.]\t[97426. 44328.]    \n",
            "332\t170   \t[6115910.24 2866704.07]  \t[4250324.14495938 2010301.61749009]\t[13549094.  6402560.]\t[97426. 44328.]    \n",
            "333\t175   \t[6589804.45 3093520.82]  \t[3919535.823042   1851437.44257739]\t[13549094.  6402560.]\t[0. 0.]            \n",
            "334\t175   \t[6850011.13 3214348.47]  \t[3866453.66185742 1824807.11468462]\t[13549094.  6402560.]\t[167092.  78938.]  \n",
            "335\t182   \t[7016509.78 3290312.33]  \t[3781768.62329461 1784354.39696974]\t[13549094.  6402560.]\t[0. 0.]            \n",
            "336\t185   \t[7032952.61 3301339.98]  \t[4081853.03458012 1928213.6436904 ]\t[13549094.  6402560.]\t[0. 0.]            \n",
            "337\t181   \t[6775033.36 3176005.47]  \t[3972595.62640091 1876647.11170464]\t[13549094.  6402560.]\t[97426. 44328.]    \n",
            "338\t182   \t[6796681.44 3187307.77]  \t[3932153.08576628 1859969.27193394]\t[13549094.  6402560.]\t[0. 0.]            \n",
            "339\t180   \t[7151882.75 3354527.43]  \t[3973019.72944653 1879094.02626606]\t[13549094.  6402560.]\t[0. 0.]            \n",
            "340\t179   \t[7155255.74 3355453.12]  \t[4035554.73166179 1908367.76619861]\t[13549094.  6402560.]\t[0. 0.]            \n",
            "341\t178   \t[6836443.18 3205289.72]  \t[3928156.31754982 1854593.86139336]\t[13549094.  6402560.]\t[0. 0.]            \n",
            "342\t190   \t[6950611.43 3259669.42]  \t[3850408.16186212 1818041.4146822 ]\t[13549094.  6402560.]\t[0. 0.]            \n",
            "343\t182   \t[6861868.89 3217326.06]  \t[3984440.12059888 1882263.32939331]\t[13549094.  6402560.]\t[0. 0.]            \n",
            "344\t179   \t[6913310.69 3241120.24]  \t[3808518.53065413 1798560.97843637]\t[13549094.  6402560.]\t[0. 0.]            \n",
            "345\t179   \t[6772383.81 3174546.77]  \t[3836932.33187994 1811181.97739085]\t[13549094.  6402560.]\t[0. 0.]            \n",
            "346\t180   \t[6736153.97 3159256.6 ]  \t[3901011.35294479 1841372.38546793]\t[13549094.  6402560.]\t[0. 0.]            \n",
            "347\t176   \t[6890342.49 3232482.93]  \t[3782733.42477684 1789277.22208252]\t[13549094.  6402560.]\t[0. 0.]            \n",
            "348\t175   \t[6914940.96 3244741.35]  \t[3946053.30528828 1867393.32806797]\t[13549094.  6402560.]\t[0. 0.]            \n",
            "349\t171   \t[7302712.4  3426034.42]  \t[3797331.32576381 1796388.93917835]\t[13549094.  6402560.]\t[97426. 44328.]    \n",
            "350\t177   \t[6807301.12 3193567.28]  \t[4001470.48330405 1893775.53299378]\t[13549094.  6402560.]\t[97426. 44328.]    \n",
            "351\t175   \t[7269493.86 3409209.05]  \t[3787733.47831773 1790609.57636349]\t[13549094.  6402560.]\t[97426. 44328.]    \n",
            "352\t183   \t[7378914.4 3460982.4]    \t[4000672.44406858 1892704.74167393]\t[13549094.  6402560.]\t[97426. 44328.]    \n",
            "353\t178   \t[7048892.23 3302441.69]  \t[3922949.30843146 1850305.69111293]\t[13549094.  6402560.]\t[97426. 44328.]    \n",
            "354\t175   \t[6450816.93 3022195.79]  \t[4067980.41052992 1920250.28863106]\t[13549094.  6402560.]\t[97426. 44328.]    \n",
            "355\t174   \t[6532741.98 3061955.36]  \t[4121446.39144101 1945443.97337965]\t[13549094.  6402560.]\t[97426. 44328.]    \n",
            "356\t172   \t[6921227.28 3244530.76]  \t[3959591.96695823 1870732.75437308]\t[13549094.  6402560.]\t[0. 0.]            \n",
            "357\t178   \t[6869463.01 3220187.24]  \t[4110285.54949287 1941307.86691889]\t[13549094.  6402560.]\t[0. 0.]            \n",
            "358\t177   \t[7294503.27 3421891.14]  \t[4088824.20638333 1931511.01920673]\t[13549094.  6402560.]\t[0. 0.]            \n",
            "359\t183   \t[6656549.38 3117153.34]  \t[4125812.54686765 1945010.00302123]\t[13549094.  6402560.]\t[97426. 44328.]    \n",
            "360\t175   \t[6766081.78 3170614.32]  \t[4459398.90674612 2103184.74415399]\t[13549094.  6402560.]\t[97426. 44328.]    \n",
            "361\t179   \t[6188688.64 2899274.05]  \t[4172793.72477841 1966576.20790786]\t[13549094.  6402560.]\t[97426. 44328.]    \n",
            "362\t180   \t[6158016.32 2887914.76]  \t[4328168.04612649 2041215.08469748]\t[13549094.  6402560.]\t[0. 0.]            \n",
            "363\t177   \t[7122446.89 3339442.42]  \t[3926210.19505905 1854625.32009862]\t[13549094.  6402560.]\t[0. 0.]            \n",
            "364\t171   \t[7451755.53 3493916.18]  \t[4033627.70106589 1906028.77154161]\t[13549094.  6402560.]\t[0. 0.]            \n",
            "365\t184   \t[7127987.64 3343731.9 ]  \t[4094973.84013599 1934766.89489176]\t[13549094.  6402560.]\t[0. 0.]            \n",
            "366\t182   \t[6575344.64 3079162.55]  \t[3711861.76681947 1751997.85178797]\t[13549094.  6402560.]\t[97426. 44328.]    \n",
            "367\t181   \t[6754505.09 3167490.56]  \t[4154140.92325287 1961342.84741428]\t[13549094.  6402560.]\t[0. 0.]            \n",
            "368\t177   \t[7090001.63 3325970.25]  \t[4115843.08357689 1944762.599868  ]\t[13549094.  6402560.]\t[0. 0.]            \n",
            "369\t183   \t[7160512.58 3358701.45]  \t[4148883.72041543 1960427.87982596]\t[13549094.  6402560.]\t[0. 0.]            \n",
            "370\t180   \t[6296156.17 2951530.86]  \t[4183559.40747198 1971827.78866928]\t[13549094.  6402560.]\t[0. 0.]            \n",
            "371\t186   \t[6769065.13 3173544.1 ]  \t[4017675.30034986 1895072.75708763]\t[13549094.  6402560.]\t[0. 0.]            \n",
            "372\t190   \t[7001576.77 3283011.7 ]  \t[3979920.01543522 1879140.7563002 ]\t[13549094.  6402560.]\t[0. 0.]            \n",
            "373\t181   \t[6680347.38 3128328.07]  \t[3994226.74517477 1884666.98874724]\t[13549094.  6402560.]\t[0. 0.]            \n",
            "374\t179   \t[6563818.15 3074023.53]  \t[4061269.26673986 1918086.66493802]\t[13549094.  6402560.]\t[0. 0.]            \n",
            "375\t176   \t[6827941.04 3197885.71]  \t[3957551.45073301 1871208.22387636]\t[13549094.  6402560.]\t[0. 0.]            \n",
            "376\t176   \t[6706846.36 3144337.52]  \t[4159764.8491459  1966206.54375802]\t[13549094.  6402560.]\t[0. 0.]            \n",
            "377\t177   \t[6744793.69 3163109.65]  \t[4259063.42363331 2013142.41769427]\t[13549094.  6402560.]\t[0. 0.]            \n",
            "378\t178   \t[7014709.08 3289144.4 ]  \t[4106426.1011558 1944531.4193949]  \t[13549094.  6402560.]\t[0. 0.]            \n",
            "379\t183   \t[6783461.06 3180907.54]  \t[4006095.46424555 1893937.2141541 ]\t[13549094.  6402560.]\t[0. 0.]            \n",
            "380\t181   \t[6751109.53 3165237.77]  \t[3966837.04275717 1873095.23687372]\t[13549094.  6402560.]\t[0. 0.]            \n",
            "381\t179   \t[6587138.08 3088141.91]  \t[4229254.75312315 1993571.37102741]\t[13549094.  6402560.]\t[0. 0.]            \n",
            "382\t185   \t[6673633.03 3128127.34]  \t[4117165.26138024 1941341.81679963]\t[13549094.  6402560.]\t[0. 0.]            \n",
            "383\t182   \t[6752525.53 3166909.48]  \t[4320834.97226993 2041106.88870901]\t[13549094.  6402560.]\t[0. 0.]            \n",
            "384\t181   \t[6752793.54 3167304.73]  \t[4089904.9934449  1930564.25774414]\t[13549094.  6402560.]\t[0. 0.]            \n",
            "385\t186   \t[6570611.75 3081240.26]  \t[4040641.478881   1906674.06993922]\t[13549094.  6402560.]\t[0. 0.]            \n",
            "386\t180   \t[6533894.05 3063544.88]  \t[4111769.15422942 1939610.91584465]\t[13549094.  6402560.]\t[0. 0.]            \n",
            "387\t183   \t[7222194.16 3390029.28]  \t[3955586.00169334 1868392.00450029]\t[13549094.  6402560.]\t[0. 0.]            \n",
            "388\t170   \t[6704873.88 3143569.69]  \t[4030574.45164027 1901538.81039299]\t[13549094.  6402560.]\t[0. 0.]            \n",
            "389\t188   \t[6892606.1  3229921.33]  \t[3974669.99665657 1877484.8677288 ]\t[13549094.  6402560.]\t[97426. 44328.]    \n",
            "390\t187   \t[6528724.16 3059835.96]  \t[4046539.04614728 1911348.49502058]\t[13549094.  6402560.]\t[0. 0.]            \n",
            "391\t183   \t[6920046.04 3245680.39]  \t[4105026.54627057 1938863.18845287]\t[13549094.  6402560.]\t[0. 0.]            \n",
            "392\t180   \t[6990031.2  3278989.38]  \t[4037214.82787142 1907464.5278148 ]\t[13549094.  6402560.]\t[0. 0.]            \n",
            "393\t189   \t[6966886.01 3266997.19]  \t[3968855.98682366 1875512.1532669 ]\t[13549094.  6402560.]\t[0. 0.]            \n",
            "394\t182   \t[6659892.23 3124131.81]  \t[4113377.04258152 1943828.76924742]\t[13549094.  6402560.]\t[0. 0.]            \n",
            "395\t176   \t[6937316.55 3252544.02]  \t[4066042.20752334 1920073.64425946]\t[13549094.  6402560.]\t[0. 0.]            \n",
            "396\t174   \t[6676167.33 3130541.36]  \t[4095160.74330872 1934502.38065068]\t[13549094.  6402560.]\t[97426. 44328.]    \n",
            "397\t171   \t[6605604.14 3098735.05]  \t[4254972.42310319 2010252.83350303]\t[13549094.  6402560.]\t[0. 0.]            \n",
            "398\t180   \t[7129546.19 3344664.22]  \t[4048012.95191256 1911046.07964922]\t[13549094.  6402560.]\t[0. 0.]            \n",
            "399\t183   \t[6860550.92 3218549.18]  \t[4112733.22064741 1940079.71596351]\t[13549094.  6402560.]\t[0. 0.]            \n",
            "400\t172   \t[7128896.97 3342548.01]  \t[4089743.70763073 1930042.83549163]\t[13549094.  6402560.]\t[232823. 110323.]  \n"
          ],
          "name": "stdout"
        }
      ]
    },
    {
      "cell_type": "code",
      "metadata": {
        "id": "UfdAd6A7UU-X",
        "colab_type": "code",
        "colab": {}
      },
      "source": [
        "evolution = pd.DataFrame(history[1])"
      ],
      "execution_count": 0,
      "outputs": []
    },
    {
      "cell_type": "code",
      "metadata": {
        "id": "6mXp93nsUoLe",
        "colab_type": "code",
        "colab": {}
      },
      "source": [
        "optimal_pop = pd.DataFrame(history[0], index=None)"
      ],
      "execution_count": 0,
      "outputs": []
    },
    {
      "cell_type": "code",
      "metadata": {
        "id": "jJ0RtH87Ybxy",
        "colab_type": "code",
        "colab": {}
      },
      "source": [
        "plt.close()"
      ],
      "execution_count": 0,
      "outputs": []
    },
    {
      "cell_type": "code",
      "metadata": {
        "id": "rW1lKzX3Yfmp",
        "colab_type": "code",
        "colab": {
          "base_uri": "https://localhost:8080/",
          "height": 295
        },
        "outputId": "c4422e64-fe61-4766-f166-34bd5a00b6c5"
      },
      "source": [
        "fig = plt.figure()\n",
        "ax  = fig.add_subplot(111)\n",
        "ax.plot(evolution['gen'], [fit[0] for fit in evolution['avg']], label='Profit')\n",
        "ax.plot(evolution['gen'], [fit[1] for fit in evolution['avg']], label='Weight')\n",
        "ax.set_title('Evolution against Time')\n",
        "ax.set_ylabel('Avg. Fitness')\n",
        "ax.set_xlabel('Generation')\n",
        "ax.legend()\n",
        "plt.show()"
      ],
      "execution_count": 70,
      "outputs": [
        {
          "output_type": "display_data",
          "data": {
            "image/png": "[encoded data removed]",
            "text/plain": [
              "<Figure size 432x288 with 1 Axes>"
            ]
          },
          "metadata": {
            "tags": []
          }
        }
      ]
    },
    {
      "cell_type": "code",
      "metadata": {
        "id": "EA6s3BlJY2gF",
        "colab_type": "code",
        "colab": {}
      },
      "source": [
        "plt.close()"
      ],
      "execution_count": 0,
      "outputs": []
    },
    {
      "cell_type": "code",
      "metadata": {
        "id": "4sk2poo0acTJ",
        "colab_type": "code",
        "colab": {
          "base_uri": "https://localhost:8080/",
          "height": 295
        },
        "outputId": "81323a0b-ecfa-44a6-974c-d6c83cd4324c"
      },
      "source": [
        "solutions_features = optimal_pop.sum(axis=0)\n",
        "fig = plt.figure()\n",
        "ax  = fig.add_subplot(111)\n",
        "ax.bar(solutions_features.index, solutions_features)\n",
        "ax.set_title('Optimal Solution Space')\n",
        "ax.set_ylabel('Occurances')\n",
        "ax.set_xlabel('Item')\n",
        "ax.set_xticks(solutions_features.index)\n",
        "plt.show()"
      ],
      "execution_count": 72,
      "outputs": [
        {
          "output_type": "display_data",
          "data": {
            "image/png": "[encoded data removed]",
            "text/plain": [
              "<Figure size 432x288 with 1 Axes>"
            ]
          },
          "metadata": {
            "tags": []
          }
        }
      ]
    },
    {
      "cell_type": "code",
      "metadata": {
        "id": "reLdQdKAacsO",
        "colab_type": "code",
        "colab": {}
      },
      "source": [
        ""
      ],
      "execution_count": 0,
      "outputs": []
    }
  ]
}